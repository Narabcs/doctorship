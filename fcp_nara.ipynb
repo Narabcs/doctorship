{
  "nbformat": 4,
  "nbformat_minor": 0,
  "metadata": {
    "colab": {
      "name": "fcp_nara.ipynb",
      "provenance": [],
      "authorship_tag": "ABX9TyPFVgn0pKNTZS56gvC1AG84",
      "include_colab_link": true
    },
    "kernelspec": {
      "name": "python3",
      "display_name": "Python 3"
    },
    "language_info": {
      "name": "python"
    }
  },
  "cells": [
    {
      "cell_type": "markdown",
      "metadata": {
        "id": "view-in-github",
        "colab_type": "text"
      },
      "source": [
        "<a href=\"https://colab.research.google.com/github/Narabcs/doctorship/blob/main/fcp_nara.ipynb\" target=\"_parent\"><img src=\"https://colab.research.google.com/assets/colab-badge.svg\" alt=\"Open In Colab\"/></a>"
      ]
    },
    {
      "cell_type": "code",
      "metadata": {
        "colab": {
          "base_uri": "https://localhost:8080/"
        },
        "id": "YAn2WlDwbHUh",
        "outputId": "fe515102-453f-4b76-b1b7-a884430110d0"
      },
      "source": [
        "import pandas as pd\n",
        "\n",
        "!git clone https://github.com/Narabcs/doctorship/"
      ],
      "execution_count": 4,
      "outputs": [
        {
          "output_type": "stream",
          "text": [
            "fatal: destination path 'doctorship' already exists and is not an empty directory.\n"
          ],
          "name": "stdout"
        }
      ]
    },
    {
      "cell_type": "code",
      "metadata": {
        "colab": {
          "base_uri": "https://localhost:8080/",
          "height": 450
        },
        "id": "b6MVtzkbbQPW",
        "outputId": "1c478602-f149-43dd-c2de-b707dcde753c"
      },
      "source": [
        "dados = pd.read_csv('/content/doctorship/parameters_water.csv')\n",
        "dados['y_ress'] = dados['yexp']/dados['xexp']\n",
        "dados"
      ],
      "execution_count": 6,
      "outputs": [
        {
          "output_type": "execute_result",
          "data": {
            "text/html": [
              "<div>\n",
              "<style scoped>\n",
              "    .dataframe tbody tr th:only-of-type {\n",
              "        vertical-align: middle;\n",
              "    }\n",
              "\n",
              "    .dataframe tbody tr th {\n",
              "        vertical-align: top;\n",
              "    }\n",
              "\n",
              "    .dataframe thead th {\n",
              "        text-align: right;\n",
              "    }\n",
              "</style>\n",
              "<table border=\"1\" class=\"dataframe\">\n",
              "  <thead>\n",
              "    <tr style=\"text-align: right;\">\n",
              "      <th></th>\n",
              "      <th>yexp</th>\n",
              "      <th>mi</th>\n",
              "      <th>xexp</th>\n",
              "      <th>pf</th>\n",
              "      <th>meio</th>\n",
              "      <th>y_ress</th>\n",
              "    </tr>\n",
              "  </thead>\n",
              "  <tbody>\n",
              "    <tr>\n",
              "      <th>0</th>\n",
              "      <td>31500000.0</td>\n",
              "      <td>0.000891</td>\n",
              "      <td>0.00800</td>\n",
              "      <td>997.05</td>\n",
              "      <td>50</td>\n",
              "      <td>3.937500e+09</td>\n",
              "    </tr>\n",
              "    <tr>\n",
              "      <th>1</th>\n",
              "      <td>63000000.0</td>\n",
              "      <td>0.000891</td>\n",
              "      <td>0.01250</td>\n",
              "      <td>997.05</td>\n",
              "      <td>50</td>\n",
              "      <td>5.040000e+09</td>\n",
              "    </tr>\n",
              "    <tr>\n",
              "      <th>2</th>\n",
              "      <td>94500000.0</td>\n",
              "      <td>0.000891</td>\n",
              "      <td>0.01480</td>\n",
              "      <td>997.05</td>\n",
              "      <td>50</td>\n",
              "      <td>6.385135e+09</td>\n",
              "    </tr>\n",
              "    <tr>\n",
              "      <th>3</th>\n",
              "      <td>126000000.0</td>\n",
              "      <td>0.000891</td>\n",
              "      <td>0.01730</td>\n",
              "      <td>997.05</td>\n",
              "      <td>50</td>\n",
              "      <td>7.283237e+09</td>\n",
              "    </tr>\n",
              "    <tr>\n",
              "      <th>4</th>\n",
              "      <td>157000000.0</td>\n",
              "      <td>0.000891</td>\n",
              "      <td>0.01930</td>\n",
              "      <td>997.05</td>\n",
              "      <td>50</td>\n",
              "      <td>8.134715e+09</td>\n",
              "    </tr>\n",
              "    <tr>\n",
              "      <th>5</th>\n",
              "      <td>189000000.0</td>\n",
              "      <td>0.000891</td>\n",
              "      <td>0.02060</td>\n",
              "      <td>997.05</td>\n",
              "      <td>50</td>\n",
              "      <td>9.174757e+09</td>\n",
              "    </tr>\n",
              "    <tr>\n",
              "      <th>6</th>\n",
              "      <td>220000000.0</td>\n",
              "      <td>0.000891</td>\n",
              "      <td>0.02240</td>\n",
              "      <td>997.05</td>\n",
              "      <td>50</td>\n",
              "      <td>9.821429e+09</td>\n",
              "    </tr>\n",
              "    <tr>\n",
              "      <th>7</th>\n",
              "      <td>15700000.0</td>\n",
              "      <td>0.000891</td>\n",
              "      <td>0.00727</td>\n",
              "      <td>997.05</td>\n",
              "      <td>120</td>\n",
              "      <td>2.159560e+09</td>\n",
              "    </tr>\n",
              "    <tr>\n",
              "      <th>8</th>\n",
              "      <td>31500000.0</td>\n",
              "      <td>0.000891</td>\n",
              "      <td>0.01060</td>\n",
              "      <td>997.05</td>\n",
              "      <td>120</td>\n",
              "      <td>2.971698e+09</td>\n",
              "    </tr>\n",
              "    <tr>\n",
              "      <th>9</th>\n",
              "      <td>63000000.0</td>\n",
              "      <td>0.000891</td>\n",
              "      <td>0.01460</td>\n",
              "      <td>997.05</td>\n",
              "      <td>120</td>\n",
              "      <td>4.315068e+09</td>\n",
              "    </tr>\n",
              "    <tr>\n",
              "      <th>10</th>\n",
              "      <td>94500000.0</td>\n",
              "      <td>0.000891</td>\n",
              "      <td>0.01790</td>\n",
              "      <td>997.05</td>\n",
              "      <td>120</td>\n",
              "      <td>5.279330e+09</td>\n",
              "    </tr>\n",
              "    <tr>\n",
              "      <th>11</th>\n",
              "      <td>126000000.0</td>\n",
              "      <td>0.000891</td>\n",
              "      <td>0.02100</td>\n",
              "      <td>997.05</td>\n",
              "      <td>120</td>\n",
              "      <td>6.000000e+09</td>\n",
              "    </tr>\n",
              "    <tr>\n",
              "      <th>12</th>\n",
              "      <td>157000000.0</td>\n",
              "      <td>0.000891</td>\n",
              "      <td>0.02400</td>\n",
              "      <td>997.05</td>\n",
              "      <td>120</td>\n",
              "      <td>6.541667e+09</td>\n",
              "    </tr>\n",
              "  </tbody>\n",
              "</table>\n",
              "</div>"
            ],
            "text/plain": [
              "           yexp        mi     xexp      pf  meio        y_ress\n",
              "0    31500000.0  0.000891  0.00800  997.05    50  3.937500e+09\n",
              "1    63000000.0  0.000891  0.01250  997.05    50  5.040000e+09\n",
              "2    94500000.0  0.000891  0.01480  997.05    50  6.385135e+09\n",
              "3   126000000.0  0.000891  0.01730  997.05    50  7.283237e+09\n",
              "4   157000000.0  0.000891  0.01930  997.05    50  8.134715e+09\n",
              "5   189000000.0  0.000891  0.02060  997.05    50  9.174757e+09\n",
              "6   220000000.0  0.000891  0.02240  997.05    50  9.821429e+09\n",
              "7    15700000.0  0.000891  0.00727  997.05   120  2.159560e+09\n",
              "8    31500000.0  0.000891  0.01060  997.05   120  2.971698e+09\n",
              "9    63000000.0  0.000891  0.01460  997.05   120  4.315068e+09\n",
              "10   94500000.0  0.000891  0.01790  997.05   120  5.279330e+09\n",
              "11  126000000.0  0.000891  0.02100  997.05   120  6.000000e+09\n",
              "12  157000000.0  0.000891  0.02400  997.05   120  6.541667e+09"
            ]
          },
          "metadata": {
            "tags": []
          },
          "execution_count": 6
        }
      ]
    }
  ]
}