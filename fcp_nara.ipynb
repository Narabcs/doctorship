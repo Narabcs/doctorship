{
  "nbformat": 4,
  "nbformat_minor": 0,
  "metadata": {
    "colab": {
      "name": "fcp_nara.ipynb",
      "provenance": [],
      "authorship_tag": "ABX9TyMl4el0DnWMLN25yLLDFoGZ",
      "include_colab_link": true
    },
    "kernelspec": {
      "name": "python3",
      "display_name": "Python 3"
    },
    "language_info": {
      "name": "python"
    }
  },
  "cells": [
    {
      "cell_type": "markdown",
      "metadata": {
        "id": "view-in-github",
        "colab_type": "text"
      },
      "source": [
        "<a href=\"https://colab.research.google.com/github/Narabcs/doctorship/blob/main/fcp_nara.ipynb\" target=\"_parent\"><img src=\"https://colab.research.google.com/assets/colab-badge.svg\" alt=\"Open In Colab\"/></a>"
      ]
    },
    {
      "cell_type": "code",
      "metadata": {
        "colab": {
          "base_uri": "https://localhost:8080/"
        },
        "id": "YAn2WlDwbHUh",
        "outputId": "fe515102-453f-4b76-b1b7-a884430110d0"
      },
      "source": [
        "import pandas as pd\n",
        "\n",
        "!git clone https://github.com/Narabcs/doctorship/"
      ],
      "execution_count": 4,
      "outputs": [
        {
          "output_type": "stream",
          "text": [
            "fatal: destination path 'doctorship' already exists and is not an empty directory.\n"
          ],
          "name": "stdout"
        }
      ]
    },
    {
      "cell_type": "markdown",
      "metadata": {
        "id": "9oKtRFb8cItD"
      },
      "source": [
        "### Etapa 01:\n",
        "\n",
        "Calculando os valores de tortuosidade utilizando os dados da água\n",
        "---"
      ]
    },
    {
      "cell_type": "code",
      "metadata": {
        "colab": {
          "base_uri": "https://localhost:8080/",
          "height": 450
        },
        "id": "b6MVtzkbbQPW",
        "outputId": "1c478602-f149-43dd-c2de-b707dcde753c"
      },
      "source": [
        "dados = pd.read_csv('/content/doctorship/parameters_water.csv')\n",
        "dados['y_ress'] = dados['yexp']/dados['xexp']\n",
        "dados"
      ],
      "execution_count": 6,
      "outputs": [
        {
          "output_type": "execute_result",
          "data": {
            "text/html": [
              "<div>\n",
              "<style scoped>\n",
              "    .dataframe tbody tr th:only-of-type {\n",
              "        vertical-align: middle;\n",
              "    }\n",
              "\n",
              "    .dataframe tbody tr th {\n",
              "        vertical-align: top;\n",
              "    }\n",
              "\n",
              "    .dataframe thead th {\n",
              "        text-align: right;\n",
              "    }\n",
              "</style>\n",
              "<table border=\"1\" class=\"dataframe\">\n",
              "  <thead>\n",
              "    <tr style=\"text-align: right;\">\n",
              "      <th></th>\n",
              "      <th>yexp</th>\n",
              "      <th>mi</th>\n",
              "      <th>xexp</th>\n",
              "      <th>pf</th>\n",
              "      <th>meio</th>\n",
              "      <th>y_ress</th>\n",
              "    </tr>\n",
              "  </thead>\n",
              "  <tbody>\n",
              "    <tr>\n",
              "      <th>0</th>\n",
              "      <td>31500000.0</td>\n",
              "      <td>0.000891</td>\n",
              "      <td>0.00800</td>\n",
              "      <td>997.05</td>\n",
              "      <td>50</td>\n",
              "      <td>3.937500e+09</td>\n",
              "    </tr>\n",
              "    <tr>\n",
              "      <th>1</th>\n",
              "      <td>63000000.0</td>\n",
              "      <td>0.000891</td>\n",
              "      <td>0.01250</td>\n",
              "      <td>997.05</td>\n",
              "      <td>50</td>\n",
              "      <td>5.040000e+09</td>\n",
              "    </tr>\n",
              "    <tr>\n",
              "      <th>2</th>\n",
              "      <td>94500000.0</td>\n",
              "      <td>0.000891</td>\n",
              "      <td>0.01480</td>\n",
              "      <td>997.05</td>\n",
              "      <td>50</td>\n",
              "      <td>6.385135e+09</td>\n",
              "    </tr>\n",
              "    <tr>\n",
              "      <th>3</th>\n",
              "      <td>126000000.0</td>\n",
              "      <td>0.000891</td>\n",
              "      <td>0.01730</td>\n",
              "      <td>997.05</td>\n",
              "      <td>50</td>\n",
              "      <td>7.283237e+09</td>\n",
              "    </tr>\n",
              "    <tr>\n",
              "      <th>4</th>\n",
              "      <td>157000000.0</td>\n",
              "      <td>0.000891</td>\n",
              "      <td>0.01930</td>\n",
              "      <td>997.05</td>\n",
              "      <td>50</td>\n",
              "      <td>8.134715e+09</td>\n",
              "    </tr>\n",
              "    <tr>\n",
              "      <th>5</th>\n",
              "      <td>189000000.0</td>\n",
              "      <td>0.000891</td>\n",
              "      <td>0.02060</td>\n",
              "      <td>997.05</td>\n",
              "      <td>50</td>\n",
              "      <td>9.174757e+09</td>\n",
              "    </tr>\n",
              "    <tr>\n",
              "      <th>6</th>\n",
              "      <td>220000000.0</td>\n",
              "      <td>0.000891</td>\n",
              "      <td>0.02240</td>\n",
              "      <td>997.05</td>\n",
              "      <td>50</td>\n",
              "      <td>9.821429e+09</td>\n",
              "    </tr>\n",
              "    <tr>\n",
              "      <th>7</th>\n",
              "      <td>15700000.0</td>\n",
              "      <td>0.000891</td>\n",
              "      <td>0.00727</td>\n",
              "      <td>997.05</td>\n",
              "      <td>120</td>\n",
              "      <td>2.159560e+09</td>\n",
              "    </tr>\n",
              "    <tr>\n",
              "      <th>8</th>\n",
              "      <td>31500000.0</td>\n",
              "      <td>0.000891</td>\n",
              "      <td>0.01060</td>\n",
              "      <td>997.05</td>\n",
              "      <td>120</td>\n",
              "      <td>2.971698e+09</td>\n",
              "    </tr>\n",
              "    <tr>\n",
              "      <th>9</th>\n",
              "      <td>63000000.0</td>\n",
              "      <td>0.000891</td>\n",
              "      <td>0.01460</td>\n",
              "      <td>997.05</td>\n",
              "      <td>120</td>\n",
              "      <td>4.315068e+09</td>\n",
              "    </tr>\n",
              "    <tr>\n",
              "      <th>10</th>\n",
              "      <td>94500000.0</td>\n",
              "      <td>0.000891</td>\n",
              "      <td>0.01790</td>\n",
              "      <td>997.05</td>\n",
              "      <td>120</td>\n",
              "      <td>5.279330e+09</td>\n",
              "    </tr>\n",
              "    <tr>\n",
              "      <th>11</th>\n",
              "      <td>126000000.0</td>\n",
              "      <td>0.000891</td>\n",
              "      <td>0.02100</td>\n",
              "      <td>997.05</td>\n",
              "      <td>120</td>\n",
              "      <td>6.000000e+09</td>\n",
              "    </tr>\n",
              "    <tr>\n",
              "      <th>12</th>\n",
              "      <td>157000000.0</td>\n",
              "      <td>0.000891</td>\n",
              "      <td>0.02400</td>\n",
              "      <td>997.05</td>\n",
              "      <td>120</td>\n",
              "      <td>6.541667e+09</td>\n",
              "    </tr>\n",
              "  </tbody>\n",
              "</table>\n",
              "</div>"
            ],
            "text/plain": [
              "           yexp        mi     xexp      pf  meio        y_ress\n",
              "0    31500000.0  0.000891  0.00800  997.05    50  3.937500e+09\n",
              "1    63000000.0  0.000891  0.01250  997.05    50  5.040000e+09\n",
              "2    94500000.0  0.000891  0.01480  997.05    50  6.385135e+09\n",
              "3   126000000.0  0.000891  0.01730  997.05    50  7.283237e+09\n",
              "4   157000000.0  0.000891  0.01930  997.05    50  8.134715e+09\n",
              "5   189000000.0  0.000891  0.02060  997.05    50  9.174757e+09\n",
              "6   220000000.0  0.000891  0.02240  997.05    50  9.821429e+09\n",
              "7    15700000.0  0.000891  0.00727  997.05   120  2.159560e+09\n",
              "8    31500000.0  0.000891  0.01060  997.05   120  2.971698e+09\n",
              "9    63000000.0  0.000891  0.01460  997.05   120  4.315068e+09\n",
              "10   94500000.0  0.000891  0.01790  997.05   120  5.279330e+09\n",
              "11  126000000.0  0.000891  0.02100  997.05   120  6.000000e+09\n",
              "12  157000000.0  0.000891  0.02400  997.05   120  6.541667e+09"
            ]
          },
          "metadata": {
            "tags": []
          },
          "execution_count": 6
        }
      ]
    },
    {
      "cell_type": "code",
      "metadata": {
        "id": "eyOqH203bord"
      },
      "source": [
        "from scipy import stats\n",
        "\n",
        "ress_50 = stats.linregress(x=dados.query('meio==50')['xexp'],y=dados.query('meio==50')['y_ress'])\n",
        "ress_120 = stats.linregress(x=dados.query('meio==120')['xexp'],y=dados.query('meio==120')['y_ress'])\n",
        "\n",
        "results = {'meio=50':{'r_squared':ress_50.rvalue,\n",
        "           'intercept': ress_50.intercept,\n",
        "           'slope': ress_50.slope},\n",
        "           'meio=120':{'r_squared':ress_120.rvalue,\n",
        "           'intercept': ress_120.intercept,\n",
        "           'slope': ress_120.slope}\n",
        "           }\n",
        "\n",
        "results = pd.DataFrame(results)\n",
        "results"
      ],
      "execution_count": null,
      "outputs": []
    },
    {
      "cell_type": "code",
      "metadata": {
        "id": "J-lz5yunbsIw"
      },
      "source": [
        "def tortuosity(slope,k,pf):\n",
        "  c = slope*k**0.5/pf\n",
        "\n",
        "  return c"
      ],
      "execution_count": null,
      "outputs": []
    },
    {
      "cell_type": "code",
      "metadata": {
        "id": "BhZ4m8qlbtuo"
      },
      "source": [
        "c_50 = tortuosity(results['meio=50'].slope,1.48e-11,dados['pf'].unique())\n",
        "c_120 = tortuosity(results['meio=120'].slope,3.95e-11,dados['pf'].unique())\n",
        "print(f'c_50 = {float(c_50)}, c_120 = {float(c_120)}')"
      ],
      "execution_count": null,
      "outputs": []
    },
    {
      "cell_type": "markdown",
      "metadata": {
        "id": "CrVQPS2pcO8A"
      },
      "source": [
        "### Etapa 02: \n",
        "\n",
        "Estimando os valores de K para as equações de Forchheimmer e Darcy."
      ]
    },
    {
      "cell_type": "code",
      "metadata": {
        "id": "nqchjOLcbwU7"
      },
      "source": [
        "dados_estimacao = pd.read_excel('parametros.xlsx',sheet_name='OnlyXG')\n",
        "dados_estimacao"
      ],
      "execution_count": null,
      "outputs": []
    },
    {
      "cell_type": "code",
      "metadata": {
        "id": "ti5f_8CLb24x"
      },
      "source": [
        "def forch_opt(x, dados):\n",
        "  forch = (dados[1] * ((1.1/(2.5*dados[4])**0.5) * dados[3]/x[0]**0.5)**(dados[2]-1))/x[0] * dados[3] + dados[6]*dados[5]/x[0]**0.5 * dados[3]**2\n",
        "  err_rel = abs(dados[0] - forch) / dados[0] \n",
        "\n",
        "  return err_rel\n",
        "\n",
        "def darcy_opt(k, dados):\n",
        "  darcy = (dados[1] * ((1.1/(2.5*dados[4])**0.5) * dados[3]/k**0.5)**(dados[2]-1))/k * dados[3]\n",
        "  err_rel = abs(dados[0] - darcy) / dados[0] \n",
        "  return err_rel\n",
        "\n",
        "def modelo(dados, model:str='forch'):\n",
        "  \n",
        "  if model == 'forch':\n",
        "    mu = (dados['m'] * ((1.1/(2.5*dados['es'])**0.5) * dados['xexp']/dados['k_forch']**0.5)**(dados['n']-1))\n",
        "    y = mu/dados['k_forch'] * dados['xexp'] + dados['c']*dados['pf']/dados['k_forch']**0.5 * dados['xexp']**2\n",
        "\n",
        "  if model == 'darcy':\n",
        "    mu = (dados['m'] * ((1.1/(2.5*dados['es'])**0.5) * dados['xexp']/dados['k_darcy']**0.5)**(dados['n']-1))\n",
        "    y = mu/dados['k_darcy'] * dados['xexp']\n",
        "\n",
        "  return y, mu"
      ],
      "execution_count": null,
      "outputs": []
    },
    {
      "cell_type": "code",
      "metadata": {
        "id": "6yh-8qXCb5Cm"
      },
      "source": [
        "from scipy.optimize import differential_evolution as de\n",
        "\n",
        "params_bound = [(1e-20,1e-10)]\n",
        "\n",
        "results = []\n",
        "\n",
        "for row in dados_estimacao.iterrows():\n",
        "  dados_selecionados = [row[1]['yexp'], row[1]['m'], row[1]['n'], row[1]['xexp'], row[1]['es'], row[1]['pf'], row[1]['c']]\n",
        "  value = de(func=forch_opt,bounds=params_bound,args=(dados_selecionados,))\n",
        "  results.append(value)\n",
        "\n",
        "df_forch = pd.DataFrame(results)\n",
        "\n",
        "k_bound = [(1e-20,1e-10)]\n",
        "\n",
        "results = []\n",
        "\n",
        "for row in dados_estimacao.iterrows():\n",
        "  dados_selecionados = [row[1]['yexp'], row[1]['m'], row[1]['n'], row[1]['xexp'], row[1]['es'], row[1]['pf'], row[1]['c']]\n",
        "  value = de(func=darcy_opt,bounds=k_bound,args=(dados_selecionados,))\n",
        "  results.append(value)\n",
        "\n",
        "df_darcy = pd.DataFrame(results)"
      ],
      "execution_count": null,
      "outputs": []
    },
    {
      "cell_type": "code",
      "metadata": {
        "id": "uuT0iBTHb7Ja"
      },
      "source": [
        "k_forch = []\n",
        "k_darcy = []\n",
        "\n",
        "for item in zip(df_forch.x,df_darcy.x):\n",
        "  k_forch.append(item[0][0])\n",
        "  k_darcy.append(item[1][0])\n",
        "dados_estimacao['k_forch'] = k_forch\n",
        "dados_estimacao['k_darcy'] = k_darcy\n",
        "dados_estimacao['dpl_forch'], dados_estimacao['mu_forch'] = modelo(dados_estimacao,model='forch')\n",
        "dados_estimacao['dpl_darcy'], dados_estimacao['mu_darcy'] = modelo(dados_estimacao,model='darcy')\n",
        "dados_estimacao"
      ],
      "execution_count": null,
      "outputs": []
    },
    {
      "cell_type": "markdown",
      "metadata": {
        "id": "O8ajvOtUcVmw"
      },
      "source": [
        "### Etapa 03:\n",
        "\n",
        "Estimar a permeabilidade da torta"
      ]
    },
    {
      "cell_type": "code",
      "metadata": {
        "id": "1jELU_6Lb-Zp"
      },
      "source": [
        "def modelo_torta(kc,dados):\n",
        "\n",
        "  # km = x[0]\n",
        "  # kc = x[1]\n",
        "\n",
        "  ps = dados[0]\n",
        "  ec = dados[1]\n",
        "  m = dados[2]\n",
        "  n = dados[3]\n",
        "  rho_fil = dados[4]\n",
        "  const_c = dados[5]\n",
        "  dP = dados[6]\n",
        "  rm = dados[7]\n",
        "  A = dados[8]\n",
        "  V = dados[9]\n",
        "  V0 = dados[10]\n",
        "  dt_real = dados[11]\n",
        "\n",
        "  # eqdarcy (dpl,mu)\n",
        "\n",
        "  alpha = 1 / (ps*(1-ec)*kc)\n",
        "  param_a = m*(1.1/(2.5*ec)**0.5 * 1/ kc**0.5)**(n-1)\n",
        "  param_b = param_a*alpha*const_c*rho_fil / (A**(n+1)*dP)\n",
        "  param_c = param_a * rm / (A**n * dP)\n",
        "  param_d = 1/n\n",
        "\n",
        "  dt_cal = ((param_c+V*param_b)**(param_d+1) - (param_c+V0*param_b)**(param_d+1)) / (param_b*(param_d+1))\n",
        "\n",
        "  erro_rel = abs(dt_real-dt_cal) / dt_real\n",
        "\n",
        "  return erro_rel"
      ],
      "execution_count": null,
      "outputs": []
    },
    {
      "cell_type": "code",
      "metadata": {
        "id": "bO5eTyglcACe"
      },
      "source": [
        "dados_torta = pd.read_excel('parametros.xlsx',sheet_name='Test')\n",
        "dados_torta['dt_real'] = dados_torta['t']-dados_torta['t0']\n",
        "dados_torta"
      ],
      "execution_count": null,
      "outputs": []
    },
    {
      "cell_type": "code",
      "metadata": {
        "id": "EppOldlDcCWB"
      },
      "source": [
        "params_bound = [(1e-20,1e-10)]\n",
        "# params_bound = [(1e-20,1e-10),(1,e-20,1e-10)]\n",
        "\n",
        "results = []\n",
        "\n",
        "for row in dados_torta.iterrows():\n",
        "  dados_selecionados = [row[1]['ps'], \n",
        "                        row[1]['ec'], \n",
        "                        row[1]['m'], \n",
        "                        row[1]['n'], \n",
        "                        row[1]['rho_fil'], \n",
        "                        row[1]['Cs'],\n",
        "                        row[1]['yexp'],\n",
        "                        row[1]['Rm'],\n",
        "                        row[1]['A'],\n",
        "                        row[1]['V'],\n",
        "                        row[1]['V0'],\n",
        "                        row[1]['dt_real']]\n",
        "\n",
        "  value = de(func=modelo_torta,bounds=params_bound,args=(dados_selecionados,))\n",
        "  results.append(value)\n",
        "\n",
        "df_torta = pd.DataFrame(results)\n",
        "df_torta"
      ],
      "execution_count": null,
      "outputs": []
    },
    {
      "cell_type": "code",
      "metadata": {
        "id": "Lb8ET6pAcD_O"
      },
      "source": [
        "k_torta = []\n",
        "\n",
        "for item in df_torta.x:\n",
        "  k_torta.append(float(item))\n",
        "  \n",
        "dados_torta['k_torta'] = k_torta\n",
        "dados_torta"
      ],
      "execution_count": null,
      "outputs": []
    }
  ]
}